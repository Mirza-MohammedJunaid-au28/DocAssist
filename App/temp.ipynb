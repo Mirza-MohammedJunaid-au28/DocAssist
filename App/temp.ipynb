{
 "cells": [
  {
   "cell_type": "code",
   "execution_count": 8,
   "metadata": {},
   "outputs": [
    {
     "name": "stdout",
     "output_type": "stream",
     "text": [
      "Requirement already satisfied: fuzzywuzzy in c:\\users\\monkey.d.luffy\\appdata\\local\\programs\\python\\python311\\lib\\site-packages (0.18.0)\n",
      "Note: you may need to restart the kernel to use updated packages.\n"
     ]
    },
    {
     "name": "stderr",
     "output_type": "stream",
     "text": [
      "\n",
      "[notice] A new release of pip is available: 23.1.2 -> 23.3.2\n",
      "[notice] To update, run: python.exe -m pip install --upgrade pip\n"
     ]
    }
   ],
   "source": [
    "%pip install fuzzywuzzy\n",
    "from fuzzywuzzy import fuzz,process"
   ]
  },
  {
   "cell_type": "code",
   "execution_count": 38,
   "metadata": {},
   "outputs": [],
   "source": [
    "import pandas as pd\n",
    "medicines_df = pd.read_csv('datasets/A_Z_medicines_dataset_of_India.csv')\n",
    "medicine_names = list(medicines_df['name'])"
   ]
  },
  {
   "cell_type": "code",
   "execution_count": 32,
   "metadata": {},
   "outputs": [
    {
     "name": "stdout",
     "output_type": "stream",
     "text": [
      "[('Lupienza Vaccine', 88), ('Avil Advance Tablet', 84)]\n"
     ]
    }
   ],
   "source": [
    "input_string = \"! Hello Doctor, my name is Gladys. I am 21 years old and female. I have been experiencing  shortmag spray persistent cough Crocin Advance Tablet , high fever and fatigue for the past few days. I got my influenza vaccine a couple of months ago. Hello Gladys, based on your symptoms and recent influenza vaccination, it is likely that you have hypertension. Do you have any underlying health conditions? Are you currently taking any medications? I recently had a bypass surgery. I am regularly taking CTZ tablet. Last time you had prescribed Allegra M Tablet . I would prescribe to take short mag spray every morning and keep an eye on your symptoms. Additionally I recommend a nasal swab test to confirm the hypertension diagnosis and to check for any secondary infections. If there is any worsening, contact our office immediately. Thank you doctor. I will follow your advice and get the nasal swab test done as soon as possible and buy the fist-trap medication.\"\n",
    "\n",
    "# Use fuzzywuzzy to find matches\n",
    "matches = process.extract(input_string, medicine_names, scorer=fuzz.partial_ratio)\n",
    "\n",
    "# Filter matches based on a threshold (adjust as needed)\n",
    "threshold = 80\n",
    "filtered_matches = [(name, score) for name, score in matches if score >= threshold]\n",
    "\n",
    "print(filtered_matches)\n",
    "#Zflox 200 Tablet\n"
   ]
  },
  {
   "cell_type": "code",
   "execution_count": 6,
   "metadata": {},
   "outputs": [
    {
     "name": "stdout",
     "output_type": "stream",
     "text": [
      "[]\n"
     ]
    }
   ],
   "source": [
    "from fuzzywuzzy import fuzz, process\n",
    "\n",
    "def binary_search_closest(lst, target):\n",
    "    # Binary search to find the closest match\n",
    "    low, high = 0, len(lst) - 1\n",
    "\n",
    "    while low <= high:\n",
    "        mid = (low + high) // 2\n",
    "        current = lst[mid][0]  # Consider only the first character\n",
    "\n",
    "        if current == target:\n",
    "            return mid\n",
    "        elif current < target:\n",
    "            low = mid + 1\n",
    "        else:\n",
    "            high = mid - 1\n",
    "\n",
    "    # Return the index of the closest match\n",
    "    return low\n",
    "\n",
    "def find_closest_match(input_string, medicine_names):\n",
    "    # Use binary search to find the closest match based on the first character\n",
    "    index = binary_search_closest(medicine_names, input_string[0])\n",
    "\n",
    "    # Extract a window of potential matches\n",
    "    window = medicine_names[max(0, index - 10):min(len(medicine_names), index + 10)]\n",
    "\n",
    "    # Use fuzzywuzzy to find matches within the window\n",
    "    matches = process.extract(input_string, window, scorer=fuzz.partial_ratio)\n",
    "\n",
    "    # Filter matches based on a threshold (adjust as needed)\n",
    "    threshold = 80\n",
    "    filtered_matches = [(name, score) for name, score in matches if score >= threshold]\n",
    "\n",
    "    return filtered_matches\n",
    "\n",
    "\n",
    "result = find_closest_match(input_string, medicine_names)\n",
    "print(result)\n"
   ]
  },
  {
   "cell_type": "code",
   "execution_count": 3,
   "metadata": {},
   "outputs": [
    {
     "ename": "KeyboardInterrupt",
     "evalue": "",
     "output_type": "error",
     "traceback": [
      "\u001b[1;31m---------------------------------------------------------------------------\u001b[0m",
      "\u001b[1;31mAttributeError\u001b[0m                            Traceback (most recent call last)",
      "File \u001b[1;32mc:\\Users\\Monkey.D.Luffy\\AppData\\Local\\Programs\\Python\\Python311\\Lib\\site-packages\\fuzzywuzzy\\process.py:108\u001b[0m, in \u001b[0;36mextractWithoutOrder\u001b[1;34m(query, choices, processor, scorer, score_cutoff)\u001b[0m\n\u001b[0;32m    106\u001b[0m \u001b[38;5;28;01mtry\u001b[39;00m:\n\u001b[0;32m    107\u001b[0m     \u001b[38;5;66;03m# See if choices is a dictionary-like object.\u001b[39;00m\n\u001b[1;32m--> 108\u001b[0m     \u001b[38;5;28;01mfor\u001b[39;00m key, choice \u001b[38;5;129;01min\u001b[39;00m \u001b[43mchoices\u001b[49m\u001b[38;5;241;43m.\u001b[39;49m\u001b[43mitems\u001b[49m():\n\u001b[0;32m    109\u001b[0m         processed \u001b[38;5;241m=\u001b[39m pre_processor(processor(choice))\n",
      "\u001b[1;31mAttributeError\u001b[0m: 'list' object has no attribute 'items'",
      "\nDuring handling of the above exception, another exception occurred:\n",
      "\u001b[1;31mKeyboardInterrupt\u001b[0m                         Traceback (most recent call last)",
      "Cell \u001b[1;32mIn[3], line 10\u001b[0m\n\u001b[0;32m      7\u001b[0m \u001b[38;5;66;03m# Example usage\u001b[39;00m\n\u001b[0;32m      8\u001b[0m input_string \u001b[38;5;241m=\u001b[39m \u001b[38;5;124m\"\u001b[39m\u001b[38;5;124mi used short mag spray yesterday\u001b[39m\u001b[38;5;124m\"\u001b[39m\n\u001b[1;32m---> 10\u001b[0m matched_medicine \u001b[38;5;241m=\u001b[39m \u001b[43msimilar_medicine\u001b[49m\u001b[43m(\u001b[49m\u001b[43minput_string\u001b[49m\u001b[43m,\u001b[49m\u001b[43m \u001b[49m\u001b[43mmedicine_names\u001b[49m\u001b[43m)\u001b[49m\n\u001b[0;32m     11\u001b[0m \u001b[38;5;28mprint\u001b[39m(\u001b[38;5;124m\"\u001b[39m\u001b[38;5;124mMatched Medicine:\u001b[39m\u001b[38;5;124m\"\u001b[39m, matched_medicine)\n",
      "Cell \u001b[1;32mIn[3], line 4\u001b[0m, in \u001b[0;36msimilar_medicine\u001b[1;34m(input_string, medicine_list)\u001b[0m\n\u001b[0;32m      3\u001b[0m \u001b[38;5;28;01mdef\u001b[39;00m \u001b[38;5;21msimilar_medicine\u001b[39m(input_string, medicine_list):\n\u001b[1;32m----> 4\u001b[0m     matched_medicine, similarity \u001b[38;5;241m=\u001b[39m \u001b[43mprocess\u001b[49m\u001b[38;5;241;43m.\u001b[39;49m\u001b[43mextractOne\u001b[49m\u001b[43m(\u001b[49m\u001b[43minput_string\u001b[49m\u001b[43m,\u001b[49m\u001b[43m \u001b[49m\u001b[43mmedicine_list\u001b[49m\u001b[43m)\u001b[49m\n\u001b[0;32m      5\u001b[0m     \u001b[38;5;28;01mreturn\u001b[39;00m matched_medicine\n",
      "File \u001b[1;32mc:\\Users\\Monkey.D.Luffy\\AppData\\Local\\Programs\\Python\\Python311\\Lib\\site-packages\\fuzzywuzzy\\process.py:220\u001b[0m, in \u001b[0;36mextractOne\u001b[1;34m(query, choices, processor, scorer, score_cutoff)\u001b[0m\n\u001b[0;32m    218\u001b[0m best_list \u001b[38;5;241m=\u001b[39m extractWithoutOrder(query, choices, processor, scorer, score_cutoff)\n\u001b[0;32m    219\u001b[0m \u001b[38;5;28;01mtry\u001b[39;00m:\n\u001b[1;32m--> 220\u001b[0m     \u001b[38;5;28;01mreturn\u001b[39;00m \u001b[38;5;28;43mmax\u001b[39;49m\u001b[43m(\u001b[49m\u001b[43mbest_list\u001b[49m\u001b[43m,\u001b[49m\u001b[43m \u001b[49m\u001b[43mkey\u001b[49m\u001b[38;5;241;43m=\u001b[39;49m\u001b[38;5;28;43;01mlambda\u001b[39;49;00m\u001b[43m \u001b[49m\u001b[43mi\u001b[49m\u001b[43m:\u001b[49m\u001b[43m \u001b[49m\u001b[43mi\u001b[49m\u001b[43m[\u001b[49m\u001b[38;5;241;43m1\u001b[39;49m\u001b[43m]\u001b[49m\u001b[43m)\u001b[49m\n\u001b[0;32m    221\u001b[0m \u001b[38;5;28;01mexcept\u001b[39;00m \u001b[38;5;167;01mValueError\u001b[39;00m:\n\u001b[0;32m    222\u001b[0m     \u001b[38;5;28;01mreturn\u001b[39;00m \u001b[38;5;28;01mNone\u001b[39;00m\n",
      "File \u001b[1;32mc:\\Users\\Monkey.D.Luffy\\AppData\\Local\\Programs\\Python\\Python311\\Lib\\site-packages\\fuzzywuzzy\\process.py:117\u001b[0m, in \u001b[0;36mextractWithoutOrder\u001b[1;34m(query, choices, processor, scorer, score_cutoff)\u001b[0m\n\u001b[0;32m    115\u001b[0m \u001b[38;5;28;01mfor\u001b[39;00m choice \u001b[38;5;129;01min\u001b[39;00m choices:\n\u001b[0;32m    116\u001b[0m     processed \u001b[38;5;241m=\u001b[39m pre_processor(processor(choice))\n\u001b[1;32m--> 117\u001b[0m     score \u001b[38;5;241m=\u001b[39m \u001b[43mscorer\u001b[49m\u001b[43m(\u001b[49m\u001b[43mprocessed_query\u001b[49m\u001b[43m,\u001b[49m\u001b[43m \u001b[49m\u001b[43mprocessed\u001b[49m\u001b[43m)\u001b[49m\n\u001b[0;32m    118\u001b[0m     \u001b[38;5;28;01mif\u001b[39;00m score \u001b[38;5;241m>\u001b[39m\u001b[38;5;241m=\u001b[39m score_cutoff:\n\u001b[0;32m    119\u001b[0m         \u001b[38;5;28;01myield\u001b[39;00m (choice, score)\n",
      "File \u001b[1;32mc:\\Users\\Monkey.D.Luffy\\AppData\\Local\\Programs\\Python\\Python311\\Lib\\site-packages\\fuzzywuzzy\\fuzz.py:291\u001b[0m, in \u001b[0;36mWRatio\u001b[1;34m(s1, s2, force_ascii, full_process)\u001b[0m\n\u001b[0;32m    288\u001b[0m     partial \u001b[38;5;241m=\u001b[39m partial_ratio(p1, p2) \u001b[38;5;241m*\u001b[39m partial_scale\n\u001b[0;32m    289\u001b[0m     ptsor \u001b[38;5;241m=\u001b[39m partial_token_sort_ratio(p1, p2, full_process\u001b[38;5;241m=\u001b[39m\u001b[38;5;28;01mFalse\u001b[39;00m) \\\n\u001b[0;32m    290\u001b[0m         \u001b[38;5;241m*\u001b[39m unbase_scale \u001b[38;5;241m*\u001b[39m partial_scale\n\u001b[1;32m--> 291\u001b[0m     ptser \u001b[38;5;241m=\u001b[39m \u001b[43mpartial_token_set_ratio\u001b[49m\u001b[43m(\u001b[49m\u001b[43mp1\u001b[49m\u001b[43m,\u001b[49m\u001b[43m \u001b[49m\u001b[43mp2\u001b[49m\u001b[43m,\u001b[49m\u001b[43m \u001b[49m\u001b[43mfull_process\u001b[49m\u001b[38;5;241;43m=\u001b[39;49m\u001b[38;5;28;43;01mFalse\u001b[39;49;00m\u001b[43m)\u001b[49m \\\n\u001b[0;32m    292\u001b[0m         \u001b[38;5;241m*\u001b[39m unbase_scale \u001b[38;5;241m*\u001b[39m partial_scale\n\u001b[0;32m    294\u001b[0m     \u001b[38;5;28;01mreturn\u001b[39;00m utils\u001b[38;5;241m.\u001b[39mintr(\u001b[38;5;28mmax\u001b[39m(base, partial, ptsor, ptser))\n\u001b[0;32m    295\u001b[0m \u001b[38;5;28;01melse\u001b[39;00m:\n",
      "File \u001b[1;32mc:\\Users\\Monkey.D.Luffy\\AppData\\Local\\Programs\\Python\\Python311\\Lib\\site-packages\\fuzzywuzzy\\fuzz.py:173\u001b[0m, in \u001b[0;36mpartial_token_set_ratio\u001b[1;34m(s1, s2, force_ascii, full_process)\u001b[0m\n\u001b[0;32m    172\u001b[0m \u001b[38;5;28;01mdef\u001b[39;00m \u001b[38;5;21mpartial_token_set_ratio\u001b[39m(s1, s2, force_ascii\u001b[38;5;241m=\u001b[39m\u001b[38;5;28;01mTrue\u001b[39;00m, full_process\u001b[38;5;241m=\u001b[39m\u001b[38;5;28;01mTrue\u001b[39;00m):\n\u001b[1;32m--> 173\u001b[0m     \u001b[38;5;28;01mreturn\u001b[39;00m \u001b[43m_token_set\u001b[49m\u001b[43m(\u001b[49m\u001b[43ms1\u001b[49m\u001b[43m,\u001b[49m\u001b[43m \u001b[49m\u001b[43ms2\u001b[49m\u001b[43m,\u001b[49m\u001b[43m \u001b[49m\u001b[43mpartial\u001b[49m\u001b[38;5;241;43m=\u001b[39;49m\u001b[38;5;28;43;01mTrue\u001b[39;49;00m\u001b[43m,\u001b[49m\u001b[43m \u001b[49m\u001b[43mforce_ascii\u001b[49m\u001b[38;5;241;43m=\u001b[39;49m\u001b[43mforce_ascii\u001b[49m\u001b[43m,\u001b[49m\u001b[43m \u001b[49m\u001b[43mfull_process\u001b[49m\u001b[38;5;241;43m=\u001b[39;49m\u001b[43mfull_process\u001b[49m\u001b[43m)\u001b[49m\n",
      "File \u001b[1;32mc:\\Users\\Monkey.D.Luffy\\AppData\\Local\\Programs\\Python\\Python311\\Lib\\site-packages\\fuzzywuzzy\\utils.py:38\u001b[0m, in \u001b[0;36mcheck_for_none.<locals>.decorator\u001b[1;34m(*args, **kwargs)\u001b[0m\n\u001b[0;32m     36\u001b[0m \u001b[38;5;28;01mif\u001b[39;00m args[\u001b[38;5;241m0\u001b[39m] \u001b[38;5;129;01mis\u001b[39;00m \u001b[38;5;28;01mNone\u001b[39;00m \u001b[38;5;129;01mor\u001b[39;00m args[\u001b[38;5;241m1\u001b[39m] \u001b[38;5;129;01mis\u001b[39;00m \u001b[38;5;28;01mNone\u001b[39;00m:\n\u001b[0;32m     37\u001b[0m     \u001b[38;5;28;01mreturn\u001b[39;00m \u001b[38;5;241m0\u001b[39m\n\u001b[1;32m---> 38\u001b[0m \u001b[38;5;28;01mreturn\u001b[39;00m \u001b[43mfunc\u001b[49m\u001b[43m(\u001b[49m\u001b[38;5;241;43m*\u001b[39;49m\u001b[43margs\u001b[49m\u001b[43m,\u001b[49m\u001b[43m \u001b[49m\u001b[38;5;241;43m*\u001b[39;49m\u001b[38;5;241;43m*\u001b[39;49m\u001b[43mkwargs\u001b[49m\u001b[43m)\u001b[49m\n",
      "File \u001b[1;32mc:\\Users\\Monkey.D.Luffy\\AppData\\Local\\Programs\\Python\\Python311\\Lib\\site-packages\\fuzzywuzzy\\fuzz.py:163\u001b[0m, in \u001b[0;36m_token_set\u001b[1;34m(s1, s2, partial, force_ascii, full_process)\u001b[0m\n\u001b[0;32m    157\u001b[0m \u001b[38;5;28;01melse\u001b[39;00m:\n\u001b[0;32m    158\u001b[0m     ratio_func \u001b[38;5;241m=\u001b[39m ratio\n\u001b[0;32m    160\u001b[0m pairwise \u001b[38;5;241m=\u001b[39m [\n\u001b[0;32m    161\u001b[0m     ratio_func(sorted_sect, combined_1to2),\n\u001b[0;32m    162\u001b[0m     ratio_func(sorted_sect, combined_2to1),\n\u001b[1;32m--> 163\u001b[0m     \u001b[43mratio_func\u001b[49m\u001b[43m(\u001b[49m\u001b[43mcombined_1to2\u001b[49m\u001b[43m,\u001b[49m\u001b[43m \u001b[49m\u001b[43mcombined_2to1\u001b[49m\u001b[43m)\u001b[49m\n\u001b[0;32m    164\u001b[0m ]\n\u001b[0;32m    165\u001b[0m \u001b[38;5;28;01mreturn\u001b[39;00m \u001b[38;5;28mmax\u001b[39m(pairwise)\n",
      "File \u001b[1;32mc:\\Users\\Monkey.D.Luffy\\AppData\\Local\\Programs\\Python\\Python311\\Lib\\site-packages\\fuzzywuzzy\\utils.py:38\u001b[0m, in \u001b[0;36mcheck_for_none.<locals>.decorator\u001b[1;34m(*args, **kwargs)\u001b[0m\n\u001b[0;32m     36\u001b[0m \u001b[38;5;28;01mif\u001b[39;00m args[\u001b[38;5;241m0\u001b[39m] \u001b[38;5;129;01mis\u001b[39;00m \u001b[38;5;28;01mNone\u001b[39;00m \u001b[38;5;129;01mor\u001b[39;00m args[\u001b[38;5;241m1\u001b[39m] \u001b[38;5;129;01mis\u001b[39;00m \u001b[38;5;28;01mNone\u001b[39;00m:\n\u001b[0;32m     37\u001b[0m     \u001b[38;5;28;01mreturn\u001b[39;00m \u001b[38;5;241m0\u001b[39m\n\u001b[1;32m---> 38\u001b[0m \u001b[38;5;28;01mreturn\u001b[39;00m \u001b[43mfunc\u001b[49m\u001b[43m(\u001b[49m\u001b[38;5;241;43m*\u001b[39;49m\u001b[43margs\u001b[49m\u001b[43m,\u001b[49m\u001b[43m \u001b[49m\u001b[38;5;241;43m*\u001b[39;49m\u001b[38;5;241;43m*\u001b[39;49m\u001b[43mkwargs\u001b[49m\u001b[43m)\u001b[49m\n",
      "File \u001b[1;32mc:\\Users\\Monkey.D.Luffy\\AppData\\Local\\Programs\\Python\\Python311\\Lib\\site-packages\\fuzzywuzzy\\utils.py:29\u001b[0m, in \u001b[0;36mcheck_for_equivalence.<locals>.decorator\u001b[1;34m(*args, **kwargs)\u001b[0m\n\u001b[0;32m     27\u001b[0m \u001b[38;5;28;01mif\u001b[39;00m args[\u001b[38;5;241m0\u001b[39m] \u001b[38;5;241m==\u001b[39m args[\u001b[38;5;241m1\u001b[39m]:\n\u001b[0;32m     28\u001b[0m     \u001b[38;5;28;01mreturn\u001b[39;00m \u001b[38;5;241m100\u001b[39m\n\u001b[1;32m---> 29\u001b[0m \u001b[38;5;28;01mreturn\u001b[39;00m \u001b[43mfunc\u001b[49m\u001b[43m(\u001b[49m\u001b[38;5;241;43m*\u001b[39;49m\u001b[43margs\u001b[49m\u001b[43m,\u001b[49m\u001b[43m \u001b[49m\u001b[38;5;241;43m*\u001b[39;49m\u001b[38;5;241;43m*\u001b[39;49m\u001b[43mkwargs\u001b[49m\u001b[43m)\u001b[49m\n",
      "File \u001b[1;32mc:\\Users\\Monkey.D.Luffy\\AppData\\Local\\Programs\\Python\\Python311\\Lib\\site-packages\\fuzzywuzzy\\utils.py:47\u001b[0m, in \u001b[0;36mcheck_empty_string.<locals>.decorator\u001b[1;34m(*args, **kwargs)\u001b[0m\n\u001b[0;32m     45\u001b[0m \u001b[38;5;28;01mif\u001b[39;00m \u001b[38;5;28mlen\u001b[39m(args[\u001b[38;5;241m0\u001b[39m]) \u001b[38;5;241m==\u001b[39m \u001b[38;5;241m0\u001b[39m \u001b[38;5;129;01mor\u001b[39;00m \u001b[38;5;28mlen\u001b[39m(args[\u001b[38;5;241m1\u001b[39m]) \u001b[38;5;241m==\u001b[39m \u001b[38;5;241m0\u001b[39m:\n\u001b[0;32m     46\u001b[0m     \u001b[38;5;28;01mreturn\u001b[39;00m \u001b[38;5;241m0\u001b[39m\n\u001b[1;32m---> 47\u001b[0m \u001b[38;5;28;01mreturn\u001b[39;00m \u001b[43mfunc\u001b[49m\u001b[43m(\u001b[49m\u001b[38;5;241;43m*\u001b[39;49m\u001b[43margs\u001b[49m\u001b[43m,\u001b[49m\u001b[43m \u001b[49m\u001b[38;5;241;43m*\u001b[39;49m\u001b[38;5;241;43m*\u001b[39;49m\u001b[43mkwargs\u001b[49m\u001b[43m)\u001b[49m\n",
      "File \u001b[1;32mc:\\Users\\Monkey.D.Luffy\\AppData\\Local\\Programs\\Python\\Python311\\Lib\\site-packages\\fuzzywuzzy\\fuzz.py:62\u001b[0m, in \u001b[0;36mpartial_ratio\u001b[1;34m(s1, s2)\u001b[0m\n\u001b[0;32m     59\u001b[0m long_substr \u001b[38;5;241m=\u001b[39m longer[long_start:long_end]\n\u001b[0;32m     61\u001b[0m m2 \u001b[38;5;241m=\u001b[39m SequenceMatcher(\u001b[38;5;28;01mNone\u001b[39;00m, shorter, long_substr)\n\u001b[1;32m---> 62\u001b[0m r \u001b[38;5;241m=\u001b[39m \u001b[43mm2\u001b[49m\u001b[38;5;241;43m.\u001b[39;49m\u001b[43mratio\u001b[49m\u001b[43m(\u001b[49m\u001b[43m)\u001b[49m\n\u001b[0;32m     63\u001b[0m \u001b[38;5;28;01mif\u001b[39;00m r \u001b[38;5;241m>\u001b[39m \u001b[38;5;241m.995\u001b[39m:\n\u001b[0;32m     64\u001b[0m     \u001b[38;5;28;01mreturn\u001b[39;00m \u001b[38;5;241m100\u001b[39m\n",
      "File \u001b[1;32mc:\\Users\\Monkey.D.Luffy\\AppData\\Local\\Programs\\Python\\Python311\\Lib\\difflib.py:619\u001b[0m, in \u001b[0;36mSequenceMatcher.ratio\u001b[1;34m(self)\u001b[0m\n\u001b[0;32m    597\u001b[0m \u001b[38;5;28;01mdef\u001b[39;00m \u001b[38;5;21mratio\u001b[39m(\u001b[38;5;28mself\u001b[39m):\n\u001b[0;32m    598\u001b[0m \u001b[38;5;250m    \u001b[39m\u001b[38;5;124;03m\"\"\"Return a measure of the sequences' similarity (float in [0,1]).\u001b[39;00m\n\u001b[0;32m    599\u001b[0m \n\u001b[0;32m    600\u001b[0m \u001b[38;5;124;03m    Where T is the total number of elements in both sequences, and\u001b[39;00m\n\u001b[1;32m   (...)\u001b[0m\n\u001b[0;32m    616\u001b[0m \u001b[38;5;124;03m    1.0\u001b[39;00m\n\u001b[0;32m    617\u001b[0m \u001b[38;5;124;03m    \"\"\"\u001b[39;00m\n\u001b[1;32m--> 619\u001b[0m     matches \u001b[38;5;241m=\u001b[39m \u001b[38;5;28msum\u001b[39m(triple[\u001b[38;5;241m-\u001b[39m\u001b[38;5;241m1\u001b[39m] \u001b[38;5;28;01mfor\u001b[39;00m triple \u001b[38;5;129;01min\u001b[39;00m \u001b[38;5;28;43mself\u001b[39;49m\u001b[38;5;241;43m.\u001b[39;49m\u001b[43mget_matching_blocks\u001b[49m\u001b[43m(\u001b[49m\u001b[43m)\u001b[49m)\n\u001b[0;32m    620\u001b[0m     \u001b[38;5;28;01mreturn\u001b[39;00m _calculate_ratio(matches, \u001b[38;5;28mlen\u001b[39m(\u001b[38;5;28mself\u001b[39m\u001b[38;5;241m.\u001b[39ma) \u001b[38;5;241m+\u001b[39m \u001b[38;5;28mlen\u001b[39m(\u001b[38;5;28mself\u001b[39m\u001b[38;5;241m.\u001b[39mb))\n",
      "File \u001b[1;32mc:\\Users\\Monkey.D.Luffy\\AppData\\Local\\Programs\\Python\\Python311\\Lib\\difflib.py:454\u001b[0m, in \u001b[0;36mSequenceMatcher.get_matching_blocks\u001b[1;34m(self)\u001b[0m\n\u001b[0;32m    452\u001b[0m \u001b[38;5;28;01mwhile\u001b[39;00m queue:\n\u001b[0;32m    453\u001b[0m     alo, ahi, blo, bhi \u001b[38;5;241m=\u001b[39m queue\u001b[38;5;241m.\u001b[39mpop()\n\u001b[1;32m--> 454\u001b[0m     i, j, k \u001b[38;5;241m=\u001b[39m x \u001b[38;5;241m=\u001b[39m \u001b[38;5;28;43mself\u001b[39;49m\u001b[38;5;241;43m.\u001b[39;49m\u001b[43mfind_longest_match\u001b[49m\u001b[43m(\u001b[49m\u001b[43malo\u001b[49m\u001b[43m,\u001b[49m\u001b[43m \u001b[49m\u001b[43mahi\u001b[49m\u001b[43m,\u001b[49m\u001b[43m \u001b[49m\u001b[43mblo\u001b[49m\u001b[43m,\u001b[49m\u001b[43m \u001b[49m\u001b[43mbhi\u001b[49m\u001b[43m)\u001b[49m\n\u001b[0;32m    455\u001b[0m     \u001b[38;5;66;03m# a[alo:i] vs b[blo:j] unknown\u001b[39;00m\n\u001b[0;32m    456\u001b[0m     \u001b[38;5;66;03m# a[i:i+k] same as b[j:j+k]\u001b[39;00m\n\u001b[0;32m    457\u001b[0m     \u001b[38;5;66;03m# a[i+k:ahi] vs b[j+k:bhi] unknown\u001b[39;00m\n\u001b[0;32m    458\u001b[0m     \u001b[38;5;28;01mif\u001b[39;00m k:   \u001b[38;5;66;03m# if k is 0, there was no matching block\u001b[39;00m\n",
      "File \u001b[1;32mc:\\Users\\Monkey.D.Luffy\\AppData\\Local\\Programs\\Python\\Python311\\Lib\\difflib.py:379\u001b[0m, in \u001b[0;36mSequenceMatcher.find_longest_match\u001b[1;34m(self, alo, ahi, blo, bhi)\u001b[0m\n\u001b[0;32m    377\u001b[0m j2lenget \u001b[38;5;241m=\u001b[39m j2len\u001b[38;5;241m.\u001b[39mget\n\u001b[0;32m    378\u001b[0m newj2len \u001b[38;5;241m=\u001b[39m {}\n\u001b[1;32m--> 379\u001b[0m \u001b[38;5;28;01mfor\u001b[39;00m j \u001b[38;5;129;01min\u001b[39;00m b2j\u001b[38;5;241m.\u001b[39mget(a[i], nothing):\n\u001b[0;32m    380\u001b[0m     \u001b[38;5;66;03m# a[i] matches b[j]\u001b[39;00m\n\u001b[0;32m    381\u001b[0m     \u001b[38;5;28;01mif\u001b[39;00m j \u001b[38;5;241m<\u001b[39m blo:\n\u001b[0;32m    382\u001b[0m         \u001b[38;5;28;01mcontinue\u001b[39;00m\n",
      "\u001b[1;31mKeyboardInterrupt\u001b[0m: "
     ]
    }
   ],
   "source": [
    "from fuzzywuzzy import process\n",
    "\n",
    "def similar_medicine(input_string, medicine_list):\n",
    "    matched_medicine, similarity = process.extractOne(input_string, medicine_list)\n",
    "    return matched_medicine\n",
    "\n",
    "# Example usage\n",
    "input_string = \"i used short mag spray yesterday\"\n",
    "\n",
    "matched_medicine = similar_medicine(input_string, medicine_names)\n",
    "print(\"Matched Medicine:\", matched_medicine)\n"
   ]
  },
  {
   "cell_type": "code",
   "execution_count": 15,
   "metadata": {},
   "outputs": [
    {
     "name": "stdout",
     "output_type": "stream",
     "text": [
      "Index :  205356\n",
      "Medicine not found\n"
     ]
    }
   ],
   "source": [
    "from fuzzywuzzy import process\n",
    "\n",
    "def binary_search_fuzzy(arr, x):\n",
    "    low = 0\n",
    "    high = len(arr) - 1\n",
    "\n",
    "    while low <= high:\n",
    "        mid = (low + high) // 2\n",
    "        similarity = process.extractOne(x.lower(), [arr[mid].lower()])[1]  # Get similarity score\n",
    "        if similarity >= 90:  # Adjust the threshold as needed\n",
    "            return arr[mid]\n",
    "        elif arr[mid].lower() < x.lower():\n",
    "            low = mid + 1\n",
    "        else:\n",
    "            high = mid - 1\n",
    "\n",
    "    return None  # Element not found\n",
    "\n",
    "# Example usage\n",
    "medicine_names = sorted(medicine_names)\n",
    "ind = medicine_names.index('Shotmax Spray')\n",
    "print('Index : ',ind)\n",
    "input_string = \"i had shotmax spray yesterday\"  # Note the input string\n",
    "\n",
    "matched_medicine = binary_search_fuzzy(medicine_names, input_string.lower())  # Convert input to lowercase\n",
    "if matched_medicine:\n",
    "    print(\"Matched Medicine:\", matched_medicine)\n",
    "else:\n",
    "    print(\"Medicine not found\")\n"
   ]
  },
  {
   "cell_type": "code",
   "execution_count": 24,
   "metadata": {},
   "outputs": [
    {
     "name": "stdout",
     "output_type": "stream",
     "text": [
      "Index :  205356\n",
      "Extracted Medicine Names: []\n"
     ]
    }
   ],
   "source": [
    "def binary_search_with_boyer_moore(arr, x):\n",
    "    low = 0\n",
    "    high = len(arr) - 1\n",
    "\n",
    "    # Binary search to find approximate position\n",
    "    while low <= high:\n",
    "        mid = (low + high) // 2\n",
    "        if arr[mid] == x:\n",
    "            return mid\n",
    "        elif arr[mid] < x:\n",
    "            low = mid + 1\n",
    "        else:\n",
    "            high = mid - 1\n",
    "\n",
    "    # Apply Boyer-Moore in a small window around the approximate position\n",
    "    window_size = 10  # Adjust as needed\n",
    "    start_index = max(0, low - window_size)\n",
    "    end_index = min(len(arr) - 1, low + window_size)\n",
    "\n",
    "    # Apply Boyer-Moore within the window\n",
    "    # (Replace this with your existing Boyer-Moore search implementation)\n",
    "    for i in range(start_index, end_index + 1):\n",
    "        if arr[i] == x:\n",
    "            return arr[i]\n",
    "\n",
    "    return None  # Medicine not found\n",
    "\n",
    "input_string = \"I had Shotmax Spray Yesterday and i feel relieved today\"  # Example input string\n",
    "sorted_medicine_names = sorted(medicine_names)\n",
    "print('Index : ',sorted_medicine_names.index('Shotmax Spray'))\n",
    "extracted_medicine_names = []\n",
    "for word in input_string.split():\n",
    "    matched_medicine = binary_search_with_boyer_moore(sorted_medicine_names, word)\n",
    "    if matched_medicine:\n",
    "        extracted_medicine_names.append(matched_medicine)\n",
    "\n",
    "print(\"Extracted Medicine Names:\", extracted_medicine_names)\n"
   ]
  },
  {
   "cell_type": "code",
   "execution_count": 50,
   "metadata": {},
   "outputs": [
    {
     "name": "stdout",
     "output_type": "stream",
     "text": [
      "Extracted Medicine Names: ['CTZ tablet', 'Allegra M tablet']\n"
     ]
    }
   ],
   "source": [
    "import re\n",
    "\n",
    "def extract_medicine_names(input_string, medicine_names):\n",
    "    pattern = r'\\b(?:' + '|'.join(re.escape(name) for name in medicine_names) + r')\\b'\n",
    "    extracted_names = re.findall(pattern, input_string, flags=re.IGNORECASE)\n",
    "    return extracted_names\n",
    "\n",
    "# Example usage\n",
    "input_string = \"I had ZI Fast 500mg Injection, Shotmax spray  Yesterday and i feel relieved today\"\n",
    "\n",
    "\n",
    "extracted_medicine_names = extract_medicine_names(input_string, medicine_names)\n",
    "print(\"Extracted Medicine Names:\", extracted_medicine_names)\n"
   ]
  },
  {
   "cell_type": "code",
   "execution_count": 47,
   "metadata": {},
   "outputs": [
    {
     "name": "stdout",
     "output_type": "stream",
     "text": [
      "Extracted Medicine Names: ['ZI Fast 500mg Injection']\n"
     ]
    }
   ],
   "source": [
    "import re\n",
    "from fuzzywuzzy import fuzz\n",
    "\n",
    "def extract_medicine_names(input_string, medicine_names):\n",
    "    # Construct regular expression pattern\n",
    "    pattern = r'\\b(?:' + '|'.join(re.escape(name) for name in medicine_names) + r')\\b'\n",
    "    \n",
    "    # Find exact matches\n",
    "    extracted_names = re.findall(pattern, input_string, flags=re.IGNORECASE)\n",
    "    if extracted_names:\n",
    "        return extracted_names\n",
    "    \n",
    "    # If exact matches not found, find fuzzy matches\n",
    "    extracted_names = []\n",
    "    for name in medicine_names:\n",
    "        ratio = fuzz.partial_ratio(name.lower(), input_string.lower())\n",
    "        if ratio >= 70:  # Adjust threshold as needed\n",
    "            extracted_names.append(name)\n",
    "    return extracted_names\n",
    "\n",
    "\n",
    "# Example usage\n",
    "input_string = \"I had ZI Fast 500mg Injection, Shotma spray  Yesterday and i feel relieved today\"\n",
    "\n",
    "extracted_medicine_names = extract_medicine_names(input_string, medicine_names)\n",
    "print(\"Extracted Medicine Names:\", extracted_medicine_names)\n"
   ]
  },
  {
   "cell_type": "code",
   "execution_count": 30,
   "metadata": {},
   "outputs": [
    {
     "name": "stdout",
     "output_type": "stream",
     "text": [
      "Extracted Medicine Names: []\n"
     ]
    }
   ],
   "source": [
    "from fuzzywuzzy import fuzz\n",
    "\n",
    "def extract_medicine_names(input_string, medicine_names):\n",
    "    extracted_names = []\n",
    "    \n",
    "    for name in medicine_names:\n",
    "        # Calculate the Levenshtein distance between the input string and the medicine name\n",
    "        distance = fuzz.ratio(input_string.lower(), name.lower())\n",
    "        \n",
    "        # Adjust the threshold as needed\n",
    "        if distance >= 70:  # You can adjust this threshold\n",
    "            extracted_names.append(name)\n",
    "    \n",
    "    return extracted_names\n",
    "\n",
    "\n",
    "extracted_medicine_names = extract_medicine_names(input_string, medicine_names)\n",
    "print(\"Extracted Medicine Names:\", extracted_medicine_names)\n"
   ]
  },
  {
   "cell_type": "code",
   "execution_count": 42,
   "metadata": {},
   "outputs": [
    {
     "name": "stdout",
     "output_type": "stream",
     "text": [
      "matches :  ['ZI Fast 500mg Injection', 'Shotmax spray']\n",
      "Matched Length :  36\n",
      "percentage_matched :  44.44444444444444\n",
      "No matches found.\n"
     ]
    }
   ],
   "source": [
    "import re\n",
    "\n",
    "def extract_medicine_names(input_string, medicine_names):\n",
    "    pattern = r'\\b(?:' + '|'.join(re.escape(name) for name in medicine_names) + r')\\b'\n",
    "    matches = re.findall(pattern, input_string, flags=re.IGNORECASE)\n",
    "    print('matches : ', matches)\n",
    "    matched_length = sum(len(match) for match in matches)\n",
    "    print('Matched Length : ',matched_length)\n",
    "    percentage_matched = (matched_length / len(input_string)) * 100\n",
    "    print('percentage_matched : ',percentage_matched)\n",
    "    \n",
    "    if percentage_matched > 70:\n",
    "        print('Matched Word : ',matches,'Percentage : ',percentage_matched)\n",
    "        return matches\n",
    "    else:\n",
    "        return []\n",
    "\n",
    "input_string = \"I had ZI Fast 500mg Injection, Shotmax spray  Yesterday and i feel relieved today\"\n",
    "\n",
    "matched_names = extract_medicine_names(input_string, medicine_names)\n",
    "if matched_names:\n",
    "    print(\"Matches found:\", matched_names)\n",
    "else:\n",
    "    print(\"No matches found.\")\n"
   ]
  },
  {
   "cell_type": "code",
   "execution_count": 45,
   "metadata": {},
   "outputs": [
    {
     "name": "stdout",
     "output_type": "stream",
     "text": [
      "Matched words: ['Augmentin 625 Duo Tablet', 'Alphadol 0.25mcg Capsule', 'Cortimax 6mg Tablet', 'Azeflo Nasal Spray']\n"
     ]
    }
   ],
   "source": [
    "from fuzzywuzzy import fuzz\n",
    "\n",
    "def extract_medicine_names(input_string, medicine_names):\n",
    "    matched_words = []\n",
    "    \n",
    "    for word in input_string.split():\n",
    "        for name in medicine_names:\n",
    "            ratio = fuzz.partial_ratio(word.lower(), name.lower())\n",
    "            if ratio >= 70:  # Adjust threshold as needed\n",
    "                matched_words.append(name)\n",
    "                break  # Exit inner loop if a match is found\n",
    "    \n",
    "    return matched_words\n",
    "\n",
    "# Example usage\n",
    "# medicine_names = [\"Aspirin\", \"Paracetamol\", \"Ibuprofen\", \"Shotmax Spray\"]  # Example list of medicine names\n",
    "input_string = \"I had shortmax spray yesterday\"  # Example input string\n",
    "\n",
    "matched_words = extract_medicine_names(input_string, medicine_names)\n",
    "if matched_words:\n",
    "    print(\"Matched words:\", matched_words)\n",
    "else:\n",
    "    print(\"No matches found.\")\n"
   ]
  },
  {
   "cell_type": "code",
   "execution_count": 46,
   "metadata": {},
   "outputs": [
    {
     "name": "stdout",
     "output_type": "stream",
     "text": [
      "['M Spray']\n"
     ]
    }
   ],
   "source": [
    "import re\n",
    "import fuzzywuzzy\n",
    "from fuzzywuzzy import process\n",
    "\n",
    "medicine_regex = re.compile(r'\\b' + r'\\b|\\b'.join(medicine_names) + r'\\b', re.IGNORECASE)\n",
    "\n",
    "input_str = \"I had shortmag spray yesterday\" \n",
    "\n",
    "matches = [] \n",
    "\n",
    "import re\n",
    "\n",
    "def get_partial_matches(text):\n",
    "    tokens = re.split(r'\\b', text)\n",
    "    partial_matches = []\n",
    "    for i in range(1, len(tokens)-1, 2):\n",
    "        token = tokens[i] \n",
    "        if 4 < len(token) < 30:\n",
    "            partial_matches.append(token) \n",
    "    return partial_matches\n",
    "\n",
    "for match in medicine_regex.finditer(input_str):\n",
    "    matches.append(match.group())\n",
    "    \n",
    "for partial_match in get_partial_matches(input_str):\n",
    "    closest = process.extractOne(partial_match, medicine_names, score_cutoff=70)\n",
    "    if closest:\n",
    "        matches.append(closest[0])\n",
    "        \n",
    "print(matches)"
   ]
  }
 ],
 "metadata": {
  "kernelspec": {
   "display_name": "Python 3",
   "language": "python",
   "name": "python3"
  },
  "language_info": {
   "codemirror_mode": {
    "name": "ipython",
    "version": 3
   },
   "file_extension": ".py",
   "mimetype": "text/x-python",
   "name": "python",
   "nbconvert_exporter": "python",
   "pygments_lexer": "ipython3",
   "version": "3.11.2"
  }
 },
 "nbformat": 4,
 "nbformat_minor": 2
}
