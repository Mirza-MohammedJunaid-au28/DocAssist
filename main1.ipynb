{
 "cells": [
  {
   "cell_type": "code",
   "execution_count": 16,
   "metadata": {},
   "outputs": [],
   "source": [
    "import pandas as pd\n",
    "import numpy as np\n",
    "import librosa\n",
    "from tensorflow.keras.models import Sequential\n",
    "from tensorflow.keras.layers import LSTM, Dense, Masking\n",
    "from tensorflow.keras.preprocessing.sequence import pad_sequences\n",
    "from sklearn.model_selection import train_test_split\n",
    "from tensorflow.keras.preprocessing.text import Tokenizer\n",
    "import tensorflow as tf\n",
    "from tensorflow.keras.utils import to_categorical"
   ]
  },
  {
   "cell_type": "code",
   "execution_count": 1,
   "metadata": {},
   "outputs": [
    {
     "ename": "NameError",
     "evalue": "name 'pd' is not defined",
     "output_type": "error",
     "traceback": [
      "\u001b[1;31m---------------------------------------------------------------------------\u001b[0m",
      "\u001b[1;31mNameError\u001b[0m                                 Traceback (most recent call last)",
      "\u001b[1;32mc:\\Users\\Monkey.D.Luffy\\OneDrive\\Desktop\\Sem 7 Miniproject\\main1.ipynb Cell 2\u001b[0m line \u001b[0;36m3\n\u001b[0;32m      <a href='vscode-notebook-cell:/c%3A/Users/Monkey.D.Luffy/OneDrive/Desktop/Sem%207%20Miniproject/main1.ipynb#W1sZmlsZQ%3D%3D?line=0'>1</a>\u001b[0m \u001b[39m# Load the metadata\u001b[39;00m\n\u001b[0;32m      <a href='vscode-notebook-cell:/c%3A/Users/Monkey.D.Luffy/OneDrive/Desktop/Sem%207%20Miniproject/main1.ipynb#W1sZmlsZQ%3D%3D?line=1'>2</a>\u001b[0m metadata_path \u001b[39m=\u001b[39m \u001b[39m'\u001b[39m\u001b[39msvarah\u001b[39m\u001b[39m\\\u001b[39m\u001b[39mmeta_speaker_stats.csv\u001b[39m\u001b[39m'\u001b[39m\n\u001b[1;32m----> <a href='vscode-notebook-cell:/c%3A/Users/Monkey.D.Luffy/OneDrive/Desktop/Sem%207%20Miniproject/main1.ipynb#W1sZmlsZQ%3D%3D?line=2'>3</a>\u001b[0m metadata \u001b[39m=\u001b[39m pd\u001b[39m.\u001b[39mread_csv(metadata_path)\n",
      "\u001b[1;31mNameError\u001b[0m: name 'pd' is not defined"
     ]
    }
   ],
   "source": [
    "# Load the metadata\n",
    "metadata_path = 'svarah\\meta_speaker_stats.csv'\n",
    "metadata = pd.read_csv(metadata_path)"
   ]
  },
  {
   "cell_type": "code",
   "execution_count": 4,
   "metadata": {},
   "outputs": [],
   "source": [
    "def sequence_generator(metadata, batch_size=32):\n",
    "    while True:\n",
    "        for _, row in metadata.iterrows():\n",
    "            audio_path = row['audio_filepath']\n",
    "            audio, _ = librosa.load('svarah/'+audio_path, sr=16000)  # Adjust the sampling rate if necessary\n",
    "            sequence = np.expand_dims(audio, axis=-1)  # Add the time dimension\n",
    "            sequence = sequence.reshape((1, sequence.shape[0], 1))  # Reshape for compatibility\n",
    "            yield sequence, np.array(row['text'])"
   ]
  },
  {
   "cell_type": "code",
   "execution_count": 19,
   "metadata": {},
   "outputs": [],
   "source": [
    "# Tokenize the text data\n",
    "tokenizer = Tokenizer()\n",
    "tokenizer.fit_on_texts(metadata['text'])\n",
    "total_words = len(tokenizer.word_index) + 1"
   ]
  },
  {
   "cell_type": "code",
   "execution_count": 20,
   "metadata": {},
   "outputs": [],
   "source": [
    "# Build the model\n",
    "model = Sequential()\n",
    "model.add(Masking(mask_value=0.0, input_shape=(None, 1)))\n",
    "model.add(LSTM(100, activation='relu'))\n",
    "model.add(Dense(total_words, activation='softmax'))"
   ]
  },
  {
   "cell_type": "code",
   "execution_count": 21,
   "metadata": {},
   "outputs": [],
   "source": [
    "\n",
    "model.compile(optimizer='adam', loss='categorical_crossentropy', metrics=['accuracy'])"
   ]
  },
  {
   "cell_type": "code",
   "execution_count": 35,
   "metadata": {},
   "outputs": [],
   "source": [
    "\n",
    "def get_audio_sequence(audio_filepath, sequence_length):\n",
    "    # Load audio file using librosa\n",
    "    audio, _ = librosa.load('svarah/'+audio_filepath, sr=None)\n",
    "\n",
    "    # Trim or pad the audio sequence to the desired length\n",
    "    if len(audio) > sequence_length:\n",
    "        audio_sequence = audio[:sequence_length]\n",
    "    else:\n",
    "        audio_sequence = np.pad(audio, (0, sequence_length - len(audio)), 'constant')\n",
    "\n",
    "    # You might want to apply additional preprocessing steps here\n",
    "\n",
    "    return audio_sequence"
   ]
  },
  {
   "cell_type": "code",
   "execution_count": 36,
   "metadata": {},
   "outputs": [],
   "source": [
    "\"\"\" def sequence_generator(metadata, tokenizer, total_words, batch_size=32):\n",
    "    while True:\n",
    "        for _, row in metadata.iterrows():\n",
    "            audio_path = row['audio_filepath']\n",
    "            audio, _ = librosa.load('svarah/'+audio_path, sr=16000)  # Adjust the sampling rate if necessary\n",
    "            sequence = np.expand_dims(audio, axis=-1)  # Add the time dimension\n",
    "            sequence = sequence.reshape((1, sequence.shape[0], 1))  # Reshape for compatibility\n",
    "            \n",
    "            # Tokenize and one-hot encode the target text\n",
    "            target_sequence = tokenizer.texts_to_sequences([row['text']])[0]\n",
    "            target_sequence = to_categorical(target_sequence, num_classes=total_words)\n",
    "            target_sequence = np.expand_dims(target_sequence, axis=0)\n",
    "\n",
    "            yield sequence, target_sequence \"\"\"\n",
    "\"\"\" def sequence_generator(metadata, tokenizer, total_words, sequence_length, batch_size=32):\n",
    "    while True:\n",
    "        for _, row in metadata.iterrows():\n",
    "            audio_path = row['audio_filepath']\n",
    "            audio, _ = librosa.load('svarah/'+audio_path, sr=16000)  # Adjust the sampling rate if necessary\n",
    "            sequence = np.expand_dims(audio, axis=-1)  # Add the time dimension\n",
    "            sequence = sequence.reshape((1, sequence.shape[0], 1))  # Reshape for compatibility\n",
    "            \n",
    "            # Tokenize and pad the target text\n",
    "            target_sequence = tokenizer.texts_to_sequences([row['text']])[0]\n",
    "            target_sequence = pad_sequences([target_sequence], maxlen=sequence_length, padding='post')\n",
    "            target_sequence = to_categorical(target_sequence, num_classes=total_words)\n",
    "            target_sequence = np.expand_dims(target_sequence, axis=0)\n",
    "\n",
    "            yield sequence, target_sequence \"\"\"\n",
    "\n",
    "def sequence_generator(metadata, tokenizer, total_words, sequence_length=16000, batch_size=32):\n",
    "    while True:\n",
    "        for index, row in metadata.iterrows():\n",
    "            sequence = get_audio_sequence(row['audio_filepath'], sequence_length)\n",
    "            target_sequence = tokenizer.texts_to_sequences([row['text']])[0]\n",
    "            target_sequence = pad_sequences([target_sequence], maxlen=sequence_length, padding='post')\n",
    "            target_sequence = to_categorical(target_sequence, num_classes=total_words)\n",
    "            target_sequence = np.expand_dims(target_sequence, axis=0)\n",
    "            \n",
    "            yield sequence, target_sequence"
   ]
  },
  {
   "cell_type": "code",
   "execution_count": 37,
   "metadata": {},
   "outputs": [
    {
     "ename": "MemoryError",
     "evalue": "Unable to allocate 525. MiB for an array with shape (16000, 8600) and data type float32",
     "output_type": "error",
     "traceback": [
      "\u001b[1;31m---------------------------------------------------------------------------\u001b[0m",
      "\u001b[1;31mMemoryError\u001b[0m                               Traceback (most recent call last)",
      "\u001b[1;32mc:\\Users\\Monkey.D.Luffy\\OneDrive\\Desktop\\Sem 7 Miniproject\\main1.ipynb Cell 9\u001b[0m line \u001b[0;36m4\n\u001b[0;32m      <a href='vscode-notebook-cell:/c%3A/Users/Monkey.D.Luffy/OneDrive/Desktop/Sem%207%20Miniproject/main1.ipynb#X10sZmlsZQ%3D%3D?line=0'>1</a>\u001b[0m \u001b[39m# Train the model using the generator\u001b[39;00m\n\u001b[0;32m      <a href='vscode-notebook-cell:/c%3A/Users/Monkey.D.Luffy/OneDrive/Desktop/Sem%207%20Miniproject/main1.ipynb#X10sZmlsZQ%3D%3D?line=1'>2</a>\u001b[0m \u001b[39m# model.fit(sequence_generator(metadata), steps_per_epoch=len(metadata), epochs=10)\u001b[39;00m\n\u001b[0;32m      <a href='vscode-notebook-cell:/c%3A/Users/Monkey.D.Luffy/OneDrive/Desktop/Sem%207%20Miniproject/main1.ipynb#X10sZmlsZQ%3D%3D?line=2'>3</a>\u001b[0m \u001b[39m# model.fit(sequence_generator(metadata, tokenizer, total_words, sequence_length=16000), steps_per_epoch=len(metadata), epochs=10)\u001b[39;00m\n\u001b[1;32m----> <a href='vscode-notebook-cell:/c%3A/Users/Monkey.D.Luffy/OneDrive/Desktop/Sem%207%20Miniproject/main1.ipynb#X10sZmlsZQ%3D%3D?line=3'>4</a>\u001b[0m model\u001b[39m.\u001b[39;49mfit(sequence_generator(metadata, tokenizer, total_words, sequence_length\u001b[39m=\u001b[39;49m\u001b[39m16000\u001b[39;49m, batch_size\u001b[39m=\u001b[39;49m\u001b[39m8\u001b[39;49m), steps_per_epoch\u001b[39m=\u001b[39;49m\u001b[39mlen\u001b[39;49m(metadata)\u001b[39m/\u001b[39;49m\u001b[39m/\u001b[39;49m\u001b[39m8\u001b[39;49m, epochs\u001b[39m=\u001b[39;49m\u001b[39m10\u001b[39;49m)\n",
      "File \u001b[1;32mc:\\Users\\Monkey.D.Luffy\\AppData\\Local\\Programs\\Python\\Python311\\Lib\\site-packages\\keras\\src\\utils\\traceback_utils.py:70\u001b[0m, in \u001b[0;36mfilter_traceback.<locals>.error_handler\u001b[1;34m(*args, **kwargs)\u001b[0m\n\u001b[0;32m     67\u001b[0m     filtered_tb \u001b[39m=\u001b[39m _process_traceback_frames(e\u001b[39m.\u001b[39m__traceback__)\n\u001b[0;32m     68\u001b[0m     \u001b[39m# To get the full stack trace, call:\u001b[39;00m\n\u001b[0;32m     69\u001b[0m     \u001b[39m# `tf.debugging.disable_traceback_filtering()`\u001b[39;00m\n\u001b[1;32m---> 70\u001b[0m     \u001b[39mraise\u001b[39;00m e\u001b[39m.\u001b[39mwith_traceback(filtered_tb) \u001b[39mfrom\u001b[39;00m \u001b[39mNone\u001b[39m\n\u001b[0;32m     71\u001b[0m \u001b[39mfinally\u001b[39;00m:\n\u001b[0;32m     72\u001b[0m     \u001b[39mdel\u001b[39;00m filtered_tb\n",
      "\u001b[1;32mc:\\Users\\Monkey.D.Luffy\\OneDrive\\Desktop\\Sem 7 Miniproject\\main1.ipynb Cell 9\u001b[0m line \u001b[0;36m3\n\u001b[0;32m     <a href='vscode-notebook-cell:/c%3A/Users/Monkey.D.Luffy/OneDrive/Desktop/Sem%207%20Miniproject/main1.ipynb#X10sZmlsZQ%3D%3D?line=34'>35</a>\u001b[0m target_sequence \u001b[39m=\u001b[39m tokenizer\u001b[39m.\u001b[39mtexts_to_sequences([row[\u001b[39m'\u001b[39m\u001b[39mtext\u001b[39m\u001b[39m'\u001b[39m]])[\u001b[39m0\u001b[39m]\n\u001b[0;32m     <a href='vscode-notebook-cell:/c%3A/Users/Monkey.D.Luffy/OneDrive/Desktop/Sem%207%20Miniproject/main1.ipynb#X10sZmlsZQ%3D%3D?line=35'>36</a>\u001b[0m target_sequence \u001b[39m=\u001b[39m pad_sequences([target_sequence], maxlen\u001b[39m=\u001b[39msequence_length, padding\u001b[39m=\u001b[39m\u001b[39m'\u001b[39m\u001b[39mpost\u001b[39m\u001b[39m'\u001b[39m)\n\u001b[1;32m---> <a href='vscode-notebook-cell:/c%3A/Users/Monkey.D.Luffy/OneDrive/Desktop/Sem%207%20Miniproject/main1.ipynb#X10sZmlsZQ%3D%3D?line=36'>37</a>\u001b[0m target_sequence \u001b[39m=\u001b[39m to_categorical(target_sequence, num_classes\u001b[39m=\u001b[39;49mtotal_words)\n\u001b[0;32m     <a href='vscode-notebook-cell:/c%3A/Users/Monkey.D.Luffy/OneDrive/Desktop/Sem%207%20Miniproject/main1.ipynb#X10sZmlsZQ%3D%3D?line=37'>38</a>\u001b[0m target_sequence \u001b[39m=\u001b[39m np\u001b[39m.\u001b[39mexpand_dims(target_sequence, axis\u001b[39m=\u001b[39m\u001b[39m0\u001b[39m)\n\u001b[0;32m     <a href='vscode-notebook-cell:/c%3A/Users/Monkey.D.Luffy/OneDrive/Desktop/Sem%207%20Miniproject/main1.ipynb#X10sZmlsZQ%3D%3D?line=39'>40</a>\u001b[0m \u001b[39myield\u001b[39;00m sequence, target_sequence\n",
      "\u001b[1;31mMemoryError\u001b[0m: Unable to allocate 525. MiB for an array with shape (16000, 8600) and data type float32"
     ]
    }
   ],
   "source": [
    "# Train the model using the generator\n",
    "# model.fit(sequence_generator(metadata), steps_per_epoch=len(metadata), epochs=10)\n",
    "# model.fit(sequence_generator(metadata, tokenizer, total_words, sequence_length=16000), steps_per_epoch=len(metadata), epochs=10)\n",
    "model.fit(sequence_generator(metadata, tokenizer, total_words, sequence_length=16000, batch_size=8), steps_per_epoch=len(metadata)//8, epochs=10)"
   ]
  },
  {
   "cell_type": "code",
   "execution_count": null,
   "metadata": {},
   "outputs": [],
   "source": [
    "def sequence_generator(metadata, tokenizer, total_words, sequence_length, batch_size):\n",
    "    num_batches = len(metadata) // batch_size\n",
    "\n",
    "    for batch_index in range(num_batches):\n",
    "        batch_metadata = metadata[batch_index * batch_size : (batch_index + 1) * batch_size]\n",
    "\n",
    "        sequences = []\n",
    "        targets = []\n",
    "\n",
    "        for _, row in batch_metadata.iterrows():\n",
    "            audio_sequence = get_audio_sequence(row['audio_filepath'], sequence_length)\n",
    "            text_sequence = tokenizer.texts_to_sequences([row['text']])[0]\n",
    "            text_sequence = pad_sequences([text_sequence], maxlen=sequence_length, padding='post')\n",
    "            target_sequence = to_categorical(text_sequence, num_classes=total_words)\n",
    "\n",
    "            sequences.append(audio_sequence)\n",
    "            targets.append(target_sequence)\n",
    "\n",
    "        yield np.array(sequences), np.array(targets)\n",
    "\n",
    "# Train the model using the generator\n",
    "model.fit(\n",
    "    sequence_generator(metadata, tokenizer, total_words, sequence_length=16000, batch_size=8),\n",
    "    steps_per_epoch=num_batches,\n",
    "    epochs=10\n",
    ")\n"
   ]
  }
 ],
 "metadata": {
  "kernelspec": {
   "display_name": "Python 3",
   "language": "python",
   "name": "python3"
  },
  "language_info": {
   "codemirror_mode": {
    "name": "ipython",
    "version": 3
   },
   "file_extension": ".py",
   "mimetype": "text/x-python",
   "name": "python",
   "nbconvert_exporter": "python",
   "pygments_lexer": "ipython3",
   "version": "3.11.2"
  },
  "orig_nbformat": 4
 },
 "nbformat": 4,
 "nbformat_minor": 2
}
